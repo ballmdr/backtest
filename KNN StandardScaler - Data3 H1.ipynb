{
 "cells": [
  {
   "cell_type": "code",
   "execution_count": 1,
   "metadata": {},
   "outputs": [],
   "source": [
    "import talib as ta\n",
    "\n",
    "from datetime import datetime\n",
    "import pandas as pd\n",
    "import numpy as np\n",
    "import pickle\n",
    "\n",
    "from sklearn.neighbors import KNeighborsClassifier\n",
    "from sklearn.preprocessing import StandardScaler, PolynomialFeatures\n",
    "from sklearn.metrics import accuracy_score, classification_report, confusion_matrix\n",
    "from sklearn.pipeline import Pipeline\n",
    "from sklearn.model_selection import GridSearchCV, train_test_split\n",
    "from sklearn.ensemble import BaggingClassifier, AdaBoostClassifier, VotingClassifier\n",
    "from sklearn.linear_model import LogisticRegression, LogisticRegressionCV\n",
    "\n",
    "def get_score(model, x_train=0, x_test=0):\n",
    "    if not x_train or not x_test:\n",
    "        x_train = X_train\n",
    "        x_test = X_test\n",
    "    y_pred = model.predict(x_test)\n",
    "    print('train: {}'.format(model.score(x_train, y_train) * 100))\n",
    "    print('test: {}'.format(model.score(x_test, y_test) * 100))\n",
    "    print('accuracy score: {}'.format(accuracy_score(y_test, y_pred) * 100))\n",
    "\n",
    "params = {\n",
    "    'n_neighbors': np.arange(1,10),\n",
    "    'leaf_size' : np.arange(1,5),\n",
    "    'weights': ['uniform', 'distance'],\n",
    "    'algorithm': ['auto', 'ball_tree', 'kd_tree', 'brute'],\n",
    "}\n",
    "#best_params = knn_cv.best_params_"
   ]
  },
  {
   "cell_type": "code",
   "execution_count": 2,
   "metadata": {},
   "outputs": [],
   "source": [
    "df = pd.read_csv('data/data3_H1.csv', parse_dates=['Datetime'], index_col='Datetime')"
   ]
  },
  {
   "cell_type": "code",
   "execution_count": 3,
   "metadata": {},
   "outputs": [],
   "source": [
    "X = df.drop('Target', axis=1).values\n",
    "y = df.Target.values\n",
    "\n",
    "X_train, X_tmp, y_train, y_tmp = train_test_split(X, y, test_size=0.40, random_state=42)\n",
    "\n",
    "half_split = int(len(X_tmp) / 2)\n",
    "X_test = X_tmp[:half_split]\n",
    "X_final = X_tmp[half_split:]\n",
    "y_test = y_tmp[:half_split]\n",
    "y_final = y_tmp[half_split:]"
   ]
  },
  {
   "cell_type": "code",
   "execution_count": 4,
   "metadata": {},
   "outputs": [],
   "source": [
    "scaler = StandardScaler()\n",
    "X_train = scaler.fit_transform(X_train)\n",
    "X_test = scaler.transform(X_test)\n",
    "X_final = scaler.transform(X_final)"
   ]
  },
  {
   "cell_type": "code",
   "execution_count": 5,
   "metadata": {},
   "outputs": [
    {
     "name": "stdout",
     "output_type": "stream",
     "text": [
      "train: 69.02255380003102\n",
      "test: 50.04393446012302\n",
      "accuracy score: 50.04393446012302\n"
     ]
    }
   ],
   "source": [
    "knn = KNeighborsClassifier()\n",
    "knn.fit(X_train, y_train)\n",
    "get_score(knn)"
   ]
  },
  {
   "cell_type": "code",
   "execution_count": null,
   "metadata": {},
   "outputs": [
    {
     "name": "stdout",
     "output_type": "stream",
     "text": [
      "Fitting 3 folds for each of 288 candidates, totalling 864 fits\n"
     ]
    },
    {
     "name": "stderr",
     "output_type": "stream",
     "text": [
      "[Parallel(n_jobs=1)]: Using backend SequentialBackend with 1 concurrent workers.\n"
     ]
    }
   ],
   "source": [
    "knn_cv = GridSearchCV(KNeighborsClassifier(), params, cv=3, verbose=True)\n",
    "knn_cv.fit(X_train, y_train)\n",
    "print(\"Tuned KNN Parameters: {}\".format(knn_cv.best_params_))\n",
    "print(\"Best score is {}\".format(knn_cv.best_score_))"
   ]
  },
  {
   "cell_type": "code",
   "execution_count": null,
   "metadata": {},
   "outputs": [],
   "source": [
    "best_params = knn_cv.best_params_"
   ]
  },
  {
   "cell_type": "code",
   "execution_count": null,
   "metadata": {},
   "outputs": [],
   "source": [
    "knn = KNeighborsClassifier(**best_params)\n",
    "knn.fit(X_train, y_train)\n",
    "get_score(knn)"
   ]
  },
  {
   "cell_type": "code",
   "execution_count": null,
   "metadata": {},
   "outputs": [],
   "source": [
    "ada_clf = AdaBoostClassifier(\n",
    "    KNeighborsClassifier(**best_params),\n",
    "    n_estimators=1000,\n",
    "    algorithm=\"SAMME.R\",\n",
    "    learning_rate=0.01,\n",
    "    \n",
    ")\n",
    "ada_clf.fit(X_train, y_train)\n",
    "get_score(ada_clf)"
   ]
  },
  {
   "cell_type": "code",
   "execution_count": null,
   "metadata": {},
   "outputs": [],
   "source": [
    "bag_log = BaggingClassifier(\n",
    "    KNeighborsClassifier(**best_params),\n",
    "    n_estimators=1000,\n",
    "    max_samples=500,\n",
    "    bootstrap=True\n",
    ")\n",
    "bag_log.fit(X_train, y_train)\n",
    "get_score(bag_log)"
   ]
  },
  {
   "cell_type": "code",
   "execution_count": null,
   "metadata": {},
   "outputs": [],
   "source": []
  }
 ],
 "metadata": {
  "kernelspec": {
   "display_name": "Python 3",
   "language": "python",
   "name": "python3"
  },
  "language_info": {
   "codemirror_mode": {
    "name": "ipython",
    "version": 3
   },
   "file_extension": ".py",
   "mimetype": "text/x-python",
   "name": "python",
   "nbconvert_exporter": "python",
   "pygments_lexer": "ipython3",
   "version": "3.7.2"
  }
 },
 "nbformat": 4,
 "nbformat_minor": 2
}
