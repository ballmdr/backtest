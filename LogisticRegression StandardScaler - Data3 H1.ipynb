{
 "cells": [
  {
   "cell_type": "code",
   "execution_count": 12,
   "metadata": {},
   "outputs": [],
   "source": [
    "import talib as ta\n",
    "\n",
    "from datetime import datetime\n",
    "import pandas as pd\n",
    "import numpy as np\n",
    "import pickle\n",
    "\n",
    "from sklearn.neighbors import KNeighborsClassifier\n",
    "from sklearn.preprocessing import StandardScaler, PolynomialFeatures\n",
    "from sklearn.metrics import accuracy_score, classification_report, confusion_matrix\n",
    "from sklearn.pipeline import Pipeline\n",
    "from sklearn.model_selection import GridSearchCV, train_test_split\n",
    "from sklearn.ensemble import BaggingClassifier, AdaBoostClassifier, VotingClassifier\n",
    "from sklearn.linear_model import LogisticRegression, LogisticRegressionCV\n",
    "\n",
    "def get_score(model, x_train=0, x_test=0):\n",
    "    if not x_train or not x_test:\n",
    "        x_train = X_train\n",
    "        x_test = X_test\n",
    "    y_pred = model.predict(x_test)\n",
    "    print('train: {}'.format(model.score(x_train, y_train) * 100))\n",
    "    print('test: {}'.format(model.score(x_test, y_test) * 100))\n",
    "    print('accuracy score: {}'.format(accuracy_score(y_test, y_pred) * 100))\n",
    "\n",
    "params_l1 = {\n",
    "    'log__penalty': ['l1'],\n",
    "    'log__C': np.logspace(-4, 4, 20),\n",
    "    'log__tol': [0.00001, 0.0001, 0.001, 0.01, 0.10],\n",
    "    'log__class_weight': [None, 'balanced'],\n",
    "    'log__solver': ['saga'],\n",
    "    'log__multi_class': ['ovr', 'multinomial', 'auto']\n",
    "}\n",
    "params_l2 = {\n",
    "    'penalty': ['l2'],\n",
    "    'C': np.logspace(-4, 4, 20),\n",
    "    'tol': [0.00001, 0.0001, 0.001, 0.01, 0.10],\n",
    "    'class_weight': [None, 'balanced'],\n",
    "    'solver': ['newton-cg', 'lbfgs', 'sag'],\n",
    "    'multi_class': ['ovr', 'multinomial', 'auto']\n",
    "}\n",
    "\n",
    "best_params = {'C': 1438.44988828766,\n",
    " 'class_weight': 'balanced',\n",
    " 'multi_class': 'multinomial',\n",
    " 'penalty': 'l2',\n",
    " 'solver': 'sag',\n",
    " 'tol': 0.1}\n"
   ]
  },
  {
   "cell_type": "code",
   "execution_count": 2,
   "metadata": {},
   "outputs": [],
   "source": [
    "df = pd.read_csv('data/data3_H1.csv', parse_dates=['Datetime'], index_col='Datetime')"
   ]
  },
  {
   "cell_type": "code",
   "execution_count": 3,
   "metadata": {},
   "outputs": [],
   "source": [
    "X = df.drop('Target', axis=1).values\n",
    "y = df.Target.values\n",
    "\n",
    "X = StandardScaler().fit_transform(X)\n",
    "\n",
    "X_train, X_tmp, y_train, y_tmp = train_test_split(X, y, test_size=0.30, random_state=42)\n",
    "\n",
    "half_split = int(len(X_tmp) / 2)\n",
    "X_test = X_tmp[:half_split]\n",
    "X_final = X_tmp[half_split:]\n",
    "y_test = y_tmp[:half_split]\n",
    "y_final = y_tmp[half_split:]\n"
   ]
  },
  {
   "cell_type": "code",
   "execution_count": 4,
   "metadata": {},
   "outputs": [
    {
     "data": {
      "text/plain": [
       "(96733, 25)"
      ]
     },
     "execution_count": 4,
     "metadata": {},
     "output_type": "execute_result"
    }
   ],
   "source": [
    "X.shape"
   ]
  },
  {
   "cell_type": "code",
   "execution_count": 5,
   "metadata": {},
   "outputs": [
    {
     "data": {
      "text/plain": [
       "(14510, 25)"
      ]
     },
     "execution_count": 5,
     "metadata": {},
     "output_type": "execute_result"
    }
   ],
   "source": [
    "X_test.shape"
   ]
  },
  {
   "cell_type": "code",
   "execution_count": 6,
   "metadata": {},
   "outputs": [
    {
     "data": {
      "text/plain": [
       "(14510, 25)"
      ]
     },
     "execution_count": 6,
     "metadata": {},
     "output_type": "execute_result"
    }
   ],
   "source": [
    "X_final.shape"
   ]
  },
  {
   "cell_type": "code",
   "execution_count": 7,
   "metadata": {},
   "outputs": [],
   "source": [
    "scaler = StandardScaler()\n",
    "X_train = scaler.fit_transform(X_train)\n",
    "X_test = scaler.transform(X_test)\n",
    "X_final = scaler.transform(X_final)"
   ]
  },
  {
   "cell_type": "code",
   "execution_count": 9,
   "metadata": {},
   "outputs": [
    {
     "name": "stdout",
     "output_type": "stream",
     "text": [
      "Fitting 3 folds for each of 1800 candidates, totalling 5400 fits\n"
     ]
    },
    {
     "name": "stderr",
     "output_type": "stream",
     "text": [
      "[Parallel(n_jobs=-1)]: Using backend LokyBackend with 8 concurrent workers.\n",
      "[Parallel(n_jobs=-1)]: Done  34 tasks      | elapsed:    4.1s\n",
      "[Parallel(n_jobs=-1)]: Done 184 tasks      | elapsed:   11.1s\n",
      "[Parallel(n_jobs=-1)]: Done 434 tasks      | elapsed:   23.3s\n",
      "[Parallel(n_jobs=-1)]: Done 784 tasks      | elapsed:   44.0s\n",
      "[Parallel(n_jobs=-1)]: Done 1234 tasks      | elapsed:  1.2min\n",
      "[Parallel(n_jobs=-1)]: Done 1784 tasks      | elapsed:  2.0min\n",
      "[Parallel(n_jobs=-1)]: Done 2434 tasks      | elapsed:  3.5min\n",
      "[Parallel(n_jobs=-1)]: Done 3184 tasks      | elapsed:  5.3min\n",
      "[Parallel(n_jobs=-1)]: Done 4034 tasks      | elapsed:  7.3min\n",
      "[Parallel(n_jobs=-1)]: Done 4984 tasks      | elapsed: 10.2min\n",
      "[Parallel(n_jobs=-1)]: Done 5400 out of 5400 | elapsed: 11.3min finished\n"
     ]
    },
    {
     "name": "stdout",
     "output_type": "stream",
     "text": [
      "best score: 52.67526176657362\n"
     ]
    }
   ],
   "source": [
    "log_cv2 = GridSearchCV(LogisticRegression(), params_l2, cv=3, verbose=True, n_jobs=-1)\n",
    "log_cv2.fit(X_train, y_train)\n",
    "print('best score: {}'.format(log_cv2.best_score_ * 100))"
   ]
  },
  {
   "cell_type": "code",
   "execution_count": 10,
   "metadata": {},
   "outputs": [
    {
     "name": "stdout",
     "output_type": "stream",
     "text": [
      "train: 52.41386439826916\n",
      "test: 51.8538938662991\n",
      "accuracy score: 51.8538938662991\n"
     ]
    }
   ],
   "source": [
    "log_cv2_best = log_cv2.best_estimator_\n",
    "log_cv2_best.fit(X_train, y_train)\n",
    "get_score(log_cv2)"
   ]
  },
  {
   "cell_type": "code",
   "execution_count": 11,
   "metadata": {},
   "outputs": [
    {
     "data": {
      "text/plain": [
       "{'C': 1438.44988828766,\n",
       " 'class_weight': 'balanced',\n",
       " 'multi_class': 'multinomial',\n",
       " 'penalty': 'l2',\n",
       " 'solver': 'sag',\n",
       " 'tol': 0.1}"
      ]
     },
     "execution_count": 11,
     "metadata": {},
     "output_type": "execute_result"
    }
   ],
   "source": [
    "log_cv2.best_params_"
   ]
  },
  {
   "cell_type": "code",
   "execution_count": 14,
   "metadata": {},
   "outputs": [
    {
     "data": {
      "text/plain": [
       "AdaBoostClassifier(algorithm='SAMME.R',\n",
       "          base_estimator=LogisticRegression(C=1438.44988828766, class_weight='balanced', dual=False,\n",
       "          fit_intercept=True, intercept_scaling=1, max_iter=100,\n",
       "          multi_class='multinomial', n_jobs=None, penalty='l2',\n",
       "          random_state=None, solver='sag', tol=0.1, verbose=0,\n",
       "          warm_start=False),\n",
       "          learning_rate=0.01, n_estimators=1000, random_state=None)"
      ]
     },
     "execution_count": 14,
     "metadata": {},
     "output_type": "execute_result"
    }
   ],
   "source": [
    "ada_clf = AdaBoostClassifier(\n",
    "    LogisticRegression(**best_params),\n",
    "    n_estimators=1000,\n",
    "    algorithm=\"SAMME.R\",\n",
    "    learning_rate=0.01\n",
    ")\n",
    "ada_clf.fit(X_train, y_train)"
   ]
  },
  {
   "cell_type": "code",
   "execution_count": 16,
   "metadata": {},
   "outputs": [
    {
     "name": "stdout",
     "output_type": "stream",
     "text": [
      "train: 52.31344055055898\n",
      "test: 52.0882150241213\n",
      "accuracy score: 52.0882150241213\n"
     ]
    }
   ],
   "source": [
    "get_score(ada_clf)"
   ]
  },
  {
   "cell_type": "code",
   "execution_count": 15,
   "metadata": {},
   "outputs": [
    {
     "name": "stdout",
     "output_type": "stream",
     "text": [
      "train: 52.645725340776515\n",
      "test: 51.784975878704344\n",
      "accuracy score: 51.784975878704344\n"
     ]
    }
   ],
   "source": [
    "#bagging from Best Params\n",
    "bag_log = BaggingClassifier(\n",
    "    LogisticRegression(**best_params),\n",
    "    n_estimators=1000,\n",
    "    max_samples=500,\n",
    "    bootstrap=True\n",
    ")\n",
    "bag_log.fit(X_train, y_train)\n",
    "get_score(bag_log)"
   ]
  },
  {
   "cell_type": "code",
   "execution_count": null,
   "metadata": {},
   "outputs": [],
   "source": []
  }
 ],
 "metadata": {
  "kernelspec": {
   "display_name": "Python 3",
   "language": "python",
   "name": "python3"
  },
  "language_info": {
   "codemirror_mode": {
    "name": "ipython",
    "version": 3
   },
   "file_extension": ".py",
   "mimetype": "text/x-python",
   "name": "python",
   "nbconvert_exporter": "python",
   "pygments_lexer": "ipython3",
   "version": "3.7.2"
  }
 },
 "nbformat": 4,
 "nbformat_minor": 2
}
