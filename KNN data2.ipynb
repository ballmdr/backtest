{
 "cells": [
  {
   "cell_type": "code",
   "execution_count": 1,
   "metadata": {},
   "outputs": [],
   "source": [
    "import talib as ta\n",
    "\n",
    "from datetime import datetime\n",
    "import pandas as pd\n",
    "import numpy as np\n",
    "import pickle\n",
    "\n",
    "from sklearn.neighbors import KNeighborsClassifier\n",
    "from sklearn.preprocessing import StandardScaler, PolynomialFeatures\n",
    "from sklearn.metrics import accuracy_score, classification_report, confusion_matrix\n",
    "from sklearn.pipeline import Pipeline\n",
    "from sklearn.model_selection import GridSearchCV"
   ]
  },
  {
   "cell_type": "code",
   "execution_count": 2,
   "metadata": {},
   "outputs": [],
   "source": [
    "df = pd.read_csv('data2_D1.csv', parse_dates=['Datetime'], index_col='Datetime')"
   ]
  },
  {
   "cell_type": "code",
   "execution_count": 3,
   "metadata": {},
   "outputs": [
    {
     "data": {
      "text/html": [
       "<div>\n",
       "<style scoped>\n",
       "    .dataframe tbody tr th:only-of-type {\n",
       "        vertical-align: middle;\n",
       "    }\n",
       "\n",
       "    .dataframe tbody tr th {\n",
       "        vertical-align: top;\n",
       "    }\n",
       "\n",
       "    .dataframe thead th {\n",
       "        text-align: right;\n",
       "    }\n",
       "</style>\n",
       "<table border=\"1\" class=\"dataframe\">\n",
       "  <thead>\n",
       "    <tr style=\"text-align: right;\">\n",
       "      <th></th>\n",
       "      <th>Target</th>\n",
       "      <th>Returns</th>\n",
       "      <th>ADX_diff</th>\n",
       "      <th>CCI_diff</th>\n",
       "      <th>MOM_diff</th>\n",
       "      <th>RSI_diff</th>\n",
       "      <th>Linear_regression_diff</th>\n",
       "      <th>Linear_angle_diff</th>\n",
       "      <th>Linear_slope_diff</th>\n",
       "      <th>Linear_intercept_diff</th>\n",
       "    </tr>\n",
       "    <tr>\n",
       "      <th>Datetime</th>\n",
       "      <th></th>\n",
       "      <th></th>\n",
       "      <th></th>\n",
       "      <th></th>\n",
       "      <th></th>\n",
       "      <th></th>\n",
       "      <th></th>\n",
       "      <th></th>\n",
       "      <th></th>\n",
       "      <th></th>\n",
       "    </tr>\n",
       "  </thead>\n",
       "  <tbody>\n",
       "    <tr>\n",
       "      <th>2003-09-07</th>\n",
       "      <td>0</td>\n",
       "      <td>-0.001145</td>\n",
       "      <td>-3.633067</td>\n",
       "      <td>12.798014</td>\n",
       "      <td>-0.00601</td>\n",
       "      <td>-0.792645</td>\n",
       "      <td>0.005093</td>\n",
       "      <td>0.034840</td>\n",
       "      <td>0.000608</td>\n",
       "      <td>-0.002812</td>\n",
       "    </tr>\n",
       "    <tr>\n",
       "      <th>2003-09-08</th>\n",
       "      <td>1</td>\n",
       "      <td>-0.002158</td>\n",
       "      <td>-3.080056</td>\n",
       "      <td>-46.153731</td>\n",
       "      <td>-0.00012</td>\n",
       "      <td>-1.534490</td>\n",
       "      <td>0.003217</td>\n",
       "      <td>0.016252</td>\n",
       "      <td>0.000284</td>\n",
       "      <td>-0.000471</td>\n",
       "    </tr>\n",
       "    <tr>\n",
       "      <th>2003-09-09</th>\n",
       "      <td>0</td>\n",
       "      <td>0.013599</td>\n",
       "      <td>-4.006817</td>\n",
       "      <td>31.678869</td>\n",
       "      <td>0.01236</td>\n",
       "      <td>8.554027</td>\n",
       "      <td>0.006306</td>\n",
       "      <td>0.032812</td>\n",
       "      <td>0.000573</td>\n",
       "      <td>-0.001139</td>\n",
       "    </tr>\n",
       "    <tr>\n",
       "      <th>2003-09-10</th>\n",
       "      <td>1</td>\n",
       "      <td>-0.003188</td>\n",
       "      <td>-3.720616</td>\n",
       "      <td>-16.883688</td>\n",
       "      <td>-0.01383</td>\n",
       "      <td>-2.405602</td>\n",
       "      <td>0.003946</td>\n",
       "      <td>0.012456</td>\n",
       "      <td>0.000217</td>\n",
       "      <td>0.001120</td>\n",
       "    </tr>\n",
       "    <tr>\n",
       "      <th>2003-09-11</th>\n",
       "      <td>1</td>\n",
       "      <td>0.000179</td>\n",
       "      <td>-3.083618</td>\n",
       "      <td>-21.011796</td>\n",
       "      <td>-0.00050</td>\n",
       "      <td>0.109947</td>\n",
       "      <td>0.003661</td>\n",
       "      <td>0.012806</td>\n",
       "      <td>0.000224</td>\n",
       "      <td>0.000756</td>\n",
       "    </tr>\n",
       "  </tbody>\n",
       "</table>\n",
       "</div>"
      ],
      "text/plain": [
       "            Target   Returns  ADX_diff   CCI_diff  MOM_diff  RSI_diff  \\\n",
       "Datetime                                                                \n",
       "2003-09-07       0 -0.001145 -3.633067  12.798014  -0.00601 -0.792645   \n",
       "2003-09-08       1 -0.002158 -3.080056 -46.153731  -0.00012 -1.534490   \n",
       "2003-09-09       0  0.013599 -4.006817  31.678869   0.01236  8.554027   \n",
       "2003-09-10       1 -0.003188 -3.720616 -16.883688  -0.01383 -2.405602   \n",
       "2003-09-11       1  0.000179 -3.083618 -21.011796  -0.00050  0.109947   \n",
       "\n",
       "            Linear_regression_diff  Linear_angle_diff  Linear_slope_diff  \\\n",
       "Datetime                                                                   \n",
       "2003-09-07                0.005093           0.034840           0.000608   \n",
       "2003-09-08                0.003217           0.016252           0.000284   \n",
       "2003-09-09                0.006306           0.032812           0.000573   \n",
       "2003-09-10                0.003946           0.012456           0.000217   \n",
       "2003-09-11                0.003661           0.012806           0.000224   \n",
       "\n",
       "            Linear_intercept_diff  \n",
       "Datetime                           \n",
       "2003-09-07              -0.002812  \n",
       "2003-09-08              -0.000471  \n",
       "2003-09-09              -0.001139  \n",
       "2003-09-10               0.001120  \n",
       "2003-09-11               0.000756  "
      ]
     },
     "execution_count": 3,
     "metadata": {},
     "output_type": "execute_result"
    }
   ],
   "source": [
    "df.head()"
   ]
  },
  {
   "cell_type": "code",
   "execution_count": 4,
   "metadata": {},
   "outputs": [],
   "source": [
    "end = datetime(2013,12,31)\n",
    "test = datetime(2014,1,1)\n",
    "\n",
    "X_train = df.loc[:end].drop('Target', axis=1).values\n",
    "y_train = df.loc[:end].Target.values\n",
    "\n",
    "X_test = df.loc[test:].drop('Target', axis=1).values\n",
    "y_test = df.loc[test:].Target.values"
   ]
  },
  {
   "cell_type": "code",
   "execution_count": 5,
   "metadata": {},
   "outputs": [
    {
     "name": "stdout",
     "output_type": "stream",
     "text": [
      "49.905956112852664\n"
     ]
    }
   ],
   "source": [
    "steps = [\n",
    "    ('poly', PolynomialFeatures()),\n",
    "    ('scaler', StandardScaler()),\n",
    "    ('knn', KNeighborsClassifier(n_neighbors=3, n_jobs=-1))\n",
    "]\n",
    "\n",
    "knn = Pipeline(steps)\n",
    "knn.fit(X_train, y_train)\n",
    "y_pred = knn.predict(X_test)\n",
    "print(accuracy_score(y_test, y_pred) * 100)"
   ]
  },
  {
   "cell_type": "code",
   "execution_count": 7,
   "metadata": {},
   "outputs": [
    {
     "name": "stdout",
     "output_type": "stream",
     "text": [
      "Fitting 5 folds for each of 19 candidates, totalling 95 fits\n"
     ]
    },
    {
     "name": "stderr",
     "output_type": "stream",
     "text": [
      "[Parallel(n_jobs=-1)]: Using backend LokyBackend with 8 concurrent workers.\n",
      "[Parallel(n_jobs=-1)]: Done  34 tasks      | elapsed:    3.8s\n",
      "[Parallel(n_jobs=-1)]: Done  95 out of  95 | elapsed:   11.5s finished\n"
     ]
    },
    {
     "name": "stdout",
     "output_type": "stream",
     "text": [
      "{'knn__n_jobs': -1, 'knn__n_neighbors': 16}\n",
      "0.5261528938409161\n",
      "train: 61.77653977096874\n",
      "test: 51.03448275862069\n",
      "accuracy score: 51.03448275862069\n"
     ]
    }
   ],
   "source": [
    "steps = [\n",
    "    ('poly', PolynomialFeatures()),\n",
    "    ('scaler', StandardScaler()),\n",
    "    ('knn', KNeighborsClassifier())\n",
    "]\n",
    "params = {\n",
    "    'knn__n_neighbors': np.arange(1, 20),\n",
    "    'knn__n_jobs': [-1]\n",
    "}\n",
    "pipeline = Pipeline(steps)\n",
    "knn_cv = GridSearchCV(pipeline, params, cv=5, n_jobs=-1, verbose=1)\n",
    "knn_cv.fit(X_train, y_train)\n",
    "print(knn_cv.best_params_)\n",
    "print(knn_cv.best_score_)\n",
    "\n",
    "model = knn_cv.best_estimator_\n",
    "\n",
    "model.fit(X_train, y_train)\n",
    "y_pred = model.predict(X_test)\n",
    "print('train: {}'.format(model.score(X_train, y_train) * 100))\n",
    "print('test: {}'.format(model.score(X_test, y_test) * 100))\n",
    "print('accuracy score: {}'.format(accuracy_score(y_test, y_pred) * 100))\n",
    "\n",
    "with open('knn_data2_D1.pickle', 'wb') as file:\n",
    "    pickle.dump(model, file)"
   ]
  },
  {
   "cell_type": "code",
   "execution_count": null,
   "metadata": {},
   "outputs": [],
   "source": []
  }
 ],
 "metadata": {
  "kernelspec": {
   "display_name": "Python 3",
   "language": "python",
   "name": "python3"
  },
  "language_info": {
   "codemirror_mode": {
    "name": "ipython",
    "version": 3
   },
   "file_extension": ".py",
   "mimetype": "text/x-python",
   "name": "python",
   "nbconvert_exporter": "python",
   "pygments_lexer": "ipython3",
   "version": "3.7.2"
  }
 },
 "nbformat": 4,
 "nbformat_minor": 2
}
