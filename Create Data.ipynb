{
 "cells": [
  {
   "cell_type": "code",
   "execution_count": 2,
   "metadata": {},
   "outputs": [],
   "source": [
    "import pandas as pd\n",
    "from datetime import datetime\n",
    "import numpy as np\n",
    "import talib as ta"
   ]
  },
  {
   "cell_type": "code",
   "execution_count": 3,
   "metadata": {},
   "outputs": [],
   "source": [
    "filename = 'data/EURUSD_M1.csv'\n",
    "df = pd.read_csv(filename, names=['Date', 'Time', 'Open', 'High', 'Low', 'Close', 'Volume'])\n",
    "df['Datetime'] = pd.to_datetime(df.Date + ' ' + df.Time)\n",
    "df = df.drop(['Date', 'Time'], axis=1)\n",
    "df = df.set_index('Datetime')\n",
    "df = df.dropna()\n",
    "\n",
    "df['Target'] = np.where(df.Close.shift(-1) > df.Close, 1, 0)"
   ]
  },
  {
   "cell_type": "code",
   "execution_count": 4,
   "metadata": {},
   "outputs": [
    {
     "data": {
      "text/html": [
       "<div>\n",
       "<style scoped>\n",
       "    .dataframe tbody tr th:only-of-type {\n",
       "        vertical-align: middle;\n",
       "    }\n",
       "\n",
       "    .dataframe tbody tr th {\n",
       "        vertical-align: top;\n",
       "    }\n",
       "\n",
       "    .dataframe thead th {\n",
       "        text-align: right;\n",
       "    }\n",
       "</style>\n",
       "<table border=\"1\" class=\"dataframe\">\n",
       "  <thead>\n",
       "    <tr style=\"text-align: right;\">\n",
       "      <th></th>\n",
       "      <th>Open</th>\n",
       "      <th>High</th>\n",
       "      <th>Low</th>\n",
       "      <th>Close</th>\n",
       "      <th>Volume</th>\n",
       "      <th>Target</th>\n",
       "    </tr>\n",
       "    <tr>\n",
       "      <th>Datetime</th>\n",
       "      <th></th>\n",
       "      <th></th>\n",
       "      <th></th>\n",
       "      <th></th>\n",
       "      <th></th>\n",
       "      <th></th>\n",
       "    </tr>\n",
       "  </thead>\n",
       "  <tbody>\n",
       "    <tr>\n",
       "      <th>2003-08-04 00:00:00</th>\n",
       "      <td>1.12672</td>\n",
       "      <td>1.12675</td>\n",
       "      <td>1.12659</td>\n",
       "      <td>1.12667</td>\n",
       "      <td>503</td>\n",
       "      <td>1</td>\n",
       "    </tr>\n",
       "    <tr>\n",
       "      <th>2003-08-04 00:01:00</th>\n",
       "      <td>1.12661</td>\n",
       "      <td>1.12686</td>\n",
       "      <td>1.12652</td>\n",
       "      <td>1.12679</td>\n",
       "      <td>828</td>\n",
       "      <td>1</td>\n",
       "    </tr>\n",
       "    <tr>\n",
       "      <th>2003-08-04 00:02:00</th>\n",
       "      <td>1.12682</td>\n",
       "      <td>1.12691</td>\n",
       "      <td>1.12673</td>\n",
       "      <td>1.12682</td>\n",
       "      <td>483</td>\n",
       "      <td>1</td>\n",
       "    </tr>\n",
       "    <tr>\n",
       "      <th>2003-08-04 00:03:00</th>\n",
       "      <td>1.12690</td>\n",
       "      <td>1.12698</td>\n",
       "      <td>1.12684</td>\n",
       "      <td>1.12692</td>\n",
       "      <td>704</td>\n",
       "      <td>0</td>\n",
       "    </tr>\n",
       "    <tr>\n",
       "      <th>2003-08-04 00:04:00</th>\n",
       "      <td>1.12678</td>\n",
       "      <td>1.12690</td>\n",
       "      <td>1.12674</td>\n",
       "      <td>1.12679</td>\n",
       "      <td>739</td>\n",
       "      <td>0</td>\n",
       "    </tr>\n",
       "  </tbody>\n",
       "</table>\n",
       "</div>"
      ],
      "text/plain": [
       "                        Open     High      Low    Close  Volume  Target\n",
       "Datetime                                                               \n",
       "2003-08-04 00:00:00  1.12672  1.12675  1.12659  1.12667     503       1\n",
       "2003-08-04 00:01:00  1.12661  1.12686  1.12652  1.12679     828       1\n",
       "2003-08-04 00:02:00  1.12682  1.12691  1.12673  1.12682     483       1\n",
       "2003-08-04 00:03:00  1.12690  1.12698  1.12684  1.12692     704       0\n",
       "2003-08-04 00:04:00  1.12678  1.12690  1.12674  1.12679     739       0"
      ]
     },
     "execution_count": 4,
     "metadata": {},
     "output_type": "execute_result"
    }
   ],
   "source": [
    "df.head()"
   ]
  },
  {
   "cell_type": "code",
   "execution_count": null,
   "metadata": {},
   "outputs": [],
   "source": [
    "# Data 3\n",
    "path = '/Users/ballmdr/data'\n",
    "filename = 'data/EURUSD_M1.csv'\n",
    "df = pd.read_csv(path + '/' + filename, names=['Date', 'Time', 'Open', 'High', 'Low', 'Close', 'Volume'])\n",
    "df['Datetime'] = pd.to_datetime(df.Date + ' ' + df.Time)\n",
    "df = df.drop(['Date', 'Time'], axis=1)\n",
    "df = df.set_index('Datetime')\n",
    "df = df.dropna()\n",
    "\n",
    "df['Target'] = np.where(df.Close.shift(-1) > df.Close, 1, 0)"
   ]
  },
  {
   "cell_type": "code",
   "execution_count": 18,
   "metadata": {},
   "outputs": [],
   "source": [
    "# Data 2\n",
    "path = '/Users/ballmdr/data'\n",
    "filename = 'EURUSD_D1.csv'\n",
    "df = pd.read_csv(path + '/' + filename, names=['Date', 'Time', 'Open', 'High', 'Low', 'Close', 'Volume'])\n",
    "df['Datetime'] = pd.to_datetime(df.Date + ' ' + df.Time)\n",
    "df = df.drop(['Date', 'Time'], axis=1)\n",
    "df = df.set_index('Datetime')\n",
    "df = df.dropna()\n",
    "\n",
    "df['Target'] = np.where(df.Close.shift(-1) > df.Close, 1, 0)\n",
    "\n",
    "df['ADX'] = ta.ADX(df.High, df.Low, df.Close, timeperiod=14)\n",
    "df['CCI'] = ta.CCI(df.High, df.Low, df.Close, timeperiod=14)\n",
    "df['MOM'] = ta.MOM(df.Close, timeperiod=10)\n",
    "df['RSI'] = ta.RSI(df.Close, timeperiod=14)\n",
    "df['Linear_regression'] = ta.LINEARREG(df.Close, timeperiod=14)\n",
    "df['Linear_angle'] = ta.LINEARREG_ANGLE(df.Close, timeperiod=14)\n",
    "df['Linear_slope'] = ta.LINEARREG_SLOPE(df.Close, timeperiod=14)\n",
    "df['Linear_intercept'] = ta.LINEARREG_INTERCEPT(df.Close, timeperiod=14)\n",
    "\n",
    "# features\n",
    "df['Returns'] = np.log(df.Close/df.Close.shift(1))\n",
    "df['ADX_diff'] = df.ADX.diff()\n",
    "df['CCI_diff'] = df.CCI.diff()\n",
    "df['MOM_diff'] = df.MOM.diff()\n",
    "df['RSI_diff'] = df.RSI.diff()\n",
    "df['Linear_regression_diff'] = df.Linear_regression.diff()\n",
    "df['Linear_angle_diff'] = df.Linear_angle.diff()\n",
    "df['Linear_slope_diff'] = df.Linear_slope.diff()\n",
    "df['Linear_intercept_diff'] = df.Linear_intercept.diff()\n",
    "\n",
    "df = df.dropna()\n",
    "drop_cols = ['Open', 'High', 'Low', 'Close', 'Volume']\n",
    "drop_cols_2 = ['ADX', 'CCI', 'MOM', 'RSI']\n",
    "drop_cols_3 = ['Linear_regression', 'Linear_angle', 'Linear_slope', 'Linear_intercept']\n",
    "drop_cols = drop_cols + drop_cols_2 + drop_cols_3\n",
    "\n",
    "df = df.drop(drop_cols, axis=1)"
   ]
  },
  {
   "cell_type": "code",
   "execution_count": 21,
   "metadata": {},
   "outputs": [],
   "source": [
    "df.to_csv('data2_D1.csv')"
   ]
  },
  {
   "cell_type": "code",
   "execution_count": null,
   "metadata": {},
   "outputs": [],
   "source": []
  }
 ],
 "metadata": {
  "kernelspec": {
   "display_name": "Python 3",
   "language": "python",
   "name": "python3"
  },
  "language_info": {
   "codemirror_mode": {
    "name": "ipython",
    "version": 3
   },
   "file_extension": ".py",
   "mimetype": "text/x-python",
   "name": "python",
   "nbconvert_exporter": "python",
   "pygments_lexer": "ipython3",
   "version": "3.7.3"
  }
 },
 "nbformat": 4,
 "nbformat_minor": 2
}
