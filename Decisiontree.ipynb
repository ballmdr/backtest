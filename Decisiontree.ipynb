{
 "cells": [
  {
   "cell_type": "code",
   "execution_count": 1,
   "metadata": {},
   "outputs": [
    {
     "name": "stdout",
     "output_type": "stream",
     "text": [
      "X shape (2904, 7)\n"
     ]
    }
   ],
   "source": [
    "import numpy as np\n",
    "import pandas as pd\n",
    "import matplotlib.pyplot as plt\n",
    "import seaborn as sns\n",
    "sns.set()\n",
    "%matplotlib inline\n",
    "\n",
    "import pickle\n",
    "\n",
    "from sklearn.tree import DecisionTreeClassifier\n",
    "from sklearn.pipeline import Pipeline\n",
    "from sklearn.preprocessing import StandardScaler, PolynomialFeatures\n",
    "from sklearn.metrics import roc_curve, roc_auc_score, auc, mean_squared_error, confusion_matrix, accuracy_score, classification_report\n",
    "from sklearn.model_selection import GridSearchCV, cross_val_score, RandomizedSearchCV\n",
    "from sklearn.ensemble import BaggingClassifier, AdaBoostClassifier, VotingClassifier\n",
    "\n",
    "def return_plot(estimator, plot=False):\n",
    "    df['Returns'] = df.Close.pct_change()\n",
    "    df['Predicted_Signal'] = estimator.predict(X)\n",
    "    Cumulative_returns = np.cumsum(df[split:]['Returns'])\n",
    "    df['Startegy_returns'] = df['Returns']* df['Predicted_Signal'].shift(1)\n",
    "    Cumulative_Strategy_returns = np.cumsum(df[split:]['Startegy_returns'])\n",
    "    print('Return: {}%'.format(round(Cumulative_Strategy_returns[-1] * 100), 2))\n",
    "    \n",
    "    if plot:\n",
    "        plt.figure(figsize=(10,5))\n",
    "        plt.plot(Cumulative_returns, color='r',label = 'Returns')\n",
    "        plt.plot(Cumulative_Strategy_returns, color='g', label = 'Strategy Returns')\n",
    "        plt.legend()\n",
    "        plt.show()\n",
    "\n",
    "def roc_plot(estimator, auc_cv=False, title=\"ROC Curve\"):\n",
    "    X_ = X_test\n",
    "    y_ = y_test\n",
    "    y_pred = estimator.predict(X_)\n",
    "    y_pred_prob = estimator.predict_proba(X_)[:,1]\n",
    "    #y_pred_prob = y_pred\n",
    "    fpr, tpr, thresholds = roc_curve(y_, y_pred_prob)\n",
    "    print('Train Score: {}%'.format(round(estimator.score(X_train, y_train)*100, 2)))\n",
    "    print(\"Test Score: {}%\".format(round(estimator.score(X_, y_)*100, 2)))\n",
    "    print(confusion_matrix(y_, y_pred))\n",
    "    print(classification_report(y_, y_pred))\n",
    "\n",
    "    # Plot ROC curve\n",
    "    plt.plot([0, 1], [0, 1], 'k--')\n",
    "    plt.plot(fpr, tpr)\n",
    "    plt.xlabel('False Positive Rate')\n",
    "    plt.ylabel('True Positive Rate')\n",
    "    plt.title(title)\n",
    "    plt.show()\n",
    "\n",
    "    #If the AUC is greater than 0.5, the model is better than random guessing. Always a good sign!\n",
    "    print(\"AUC: {}%\".format(round(roc_auc_score(y_, y_pred_prob)*100, 2)))\n",
    "    \n",
    "    if (auc_cv):\n",
    "        cv_auc = cross_val_score(estimator, X, y, cv=5, scoring='roc_auc', n_jobs=-1)\n",
    "        print(\"AUC scores computed using 5-fold cross-validation: {}%\".format(round(np.mean(cv_auc)*100, 2)))\n",
    "  \n",
    "\n",
    "df = pd.read_csv('data1.csv', index_col='Datetime')\n",
    "y = df.Target.values\n",
    "X = df.drop(['Target', 'Close'], axis=1).values\n",
    "\n",
    "split = int(len(df) * 0.60)\n",
    "X_train = X[:split]\n",
    "X_test = X[split:]\n",
    "y_train = y[:split]\n",
    "y_test = y[split:]\n",
    "\n",
    "print('X shape {}'.format(X_train.shape))"
   ]
  },
  {
   "cell_type": "code",
   "execution_count": 2,
   "metadata": {},
   "outputs": [
    {
     "name": "stdout",
     "output_type": "stream",
     "text": [
      "Fitting 5 folds for each of 55296 candidates, totalling 276480 fits\n"
     ]
    },
    {
     "name": "stderr",
     "output_type": "stream",
     "text": [
      "[Parallel(n_jobs=-1)]: Using backend LokyBackend with 8 concurrent workers.\n",
      "[Parallel(n_jobs=-1)]: Done  34 tasks      | elapsed:    2.4s\n",
      "[Parallel(n_jobs=-1)]: Done 8993 tasks      | elapsed:    6.5s\n",
      "[Parallel(n_jobs=-1)]: Done 28493 tasks      | elapsed:   16.1s\n",
      "[Parallel(n_jobs=-1)]: Done 55793 tasks      | elapsed:   31.0s\n",
      "[Parallel(n_jobs=-1)]: Done 90893 tasks      | elapsed:   50.4s\n",
      "[Parallel(n_jobs=-1)]: Done 133793 tasks      | elapsed:  1.3min\n",
      "[Parallel(n_jobs=-1)]: Done 184493 tasks      | elapsed:  1.9min\n",
      "[Parallel(n_jobs=-1)]: Done 242993 tasks      | elapsed:  2.5min\n",
      "[Parallel(n_jobs=-1)]: Done 276480 out of 276480 | elapsed:  3.0min finished\n"
     ]
    },
    {
     "name": "stdout",
     "output_type": "stream",
     "text": [
      "Train Score: 51.41%\n",
      "Test Score: 50.52%\n",
      "[[ 51 927]\n",
      " [ 31 927]]\n",
      "              precision    recall  f1-score   support\n",
      "\n",
      "          -1       0.62      0.05      0.10       978\n",
      "           1       0.50      0.97      0.66       958\n",
      "\n",
      "   micro avg       0.51      0.51      0.51      1936\n",
      "   macro avg       0.56      0.51      0.38      1936\n",
      "weighted avg       0.56      0.51      0.37      1936\n",
      "\n"
     ]
    },
    {
     "data": {
      "image/png": "[encoded data removed]",
      "text/plain": [
       "<Figure size 432x288 with 1 Axes>"
      ]
     },
     "metadata": {
      "needs_background": "light"
     },
     "output_type": "display_data"
    },
    {
     "name": "stdout",
     "output_type": "stream",
     "text": [
      "AUC: 50.99%\n"
     ]
    },
    {
     "ename": "NameError",
     "evalue": "name 'dec' is not defined",
     "output_type": "error",
     "traceback": [
      "\u001b[0;31m---------------------------------------------------------------------------\u001b[0m",
      "\u001b[0;31mNameError\u001b[0m                                 Traceback (most recent call last)",
      "\u001b[0;32m<ipython-input-2-2f0120fc1046>\u001b[0m in \u001b[0;36m<module>\u001b[0;34m\u001b[0m\n\u001b[1;32m     16\u001b[0m \u001b[0mdec_cv\u001b[0m\u001b[0;34m.\u001b[0m\u001b[0mfit\u001b[0m\u001b[0;34m(\u001b[0m\u001b[0mX_train\u001b[0m\u001b[0;34m,\u001b[0m \u001b[0my_train\u001b[0m\u001b[0;34m)\u001b[0m\u001b[0;34m\u001b[0m\u001b[0;34m\u001b[0m\u001b[0m\n\u001b[1;32m     17\u001b[0m \u001b[0mroc_plot\u001b[0m\u001b[0;34m(\u001b[0m\u001b[0mdec_cv\u001b[0m\u001b[0;34m)\u001b[0m\u001b[0;34m\u001b[0m\u001b[0;34m\u001b[0m\u001b[0m\n\u001b[0;32m---> 18\u001b[0;31m \u001b[0mreturn_plot\u001b[0m\u001b[0;34m(\u001b[0m\u001b[0mdec\u001b[0m\u001b[0;34m,\u001b[0m \u001b[0mplot\u001b[0m\u001b[0;34m=\u001b[0m\u001b[0;32mTrue\u001b[0m\u001b[0;34m)\u001b[0m\u001b[0;34m\u001b[0m\u001b[0;34m\u001b[0m\u001b[0m\n\u001b[0m",
      "\u001b[0;31mNameError\u001b[0m: name 'dec' is not defined"
     ]
    }
   ],
   "source": [
    "params = {\n",
    "    'criterion': ['gini', 'entropy'],\n",
    "    'splitter': ['best', 'random'],\n",
    "    'max_depth': np.arange(1,10),\n",
    "    'min_samples_split': np.arange(2,5),\n",
    "    'min_samples_leaf': np.arange(1,5),\n",
    "    #'min_weight_fraction_leaf': np.logspace(-4, 4, 20),\n",
    "    'max_features': ['auto', 'sqrt', 'log2', None],\n",
    "    'max_leaf_nodes': np.arange(2,10),\n",
    "    #'max_impurity_decrease': np.logspace(-4, 4, 20),\n",
    "    #'min_impurity_split': np.logspace(-4, 4, 20),\n",
    "    'class_weight': [None, 'balanced'],\n",
    "    'presort': [True, False]\n",
    "}\n",
    "dec_cv = GridSearchCV(DecisionTreeClassifier(), params, cv=5, n_jobs=-1, verbose=1)\n",
    "dec_cv.fit(X_train, y_train)\n",
    "roc_plot(dec_cv)\n",
    "return_plot(dec_cv, plot=True)"
   ]
  },
  {
   "cell_type": "code",
   "execution_count": 7,
   "metadata": {},
   "outputs": [
    {
     "name": "stdout",
     "output_type": "stream",
     "text": [
      "Train Score: 100.0%\n",
      "Test Score: 48.4%\n",
      "[[440 538]\n",
      " [461 497]]\n",
      "              precision    recall  f1-score   support\n",
      "\n",
      "          -1       0.49      0.45      0.47       978\n",
      "           1       0.48      0.52      0.50       958\n",
      "\n",
      "   micro avg       0.48      0.48      0.48      1936\n",
      "   macro avg       0.48      0.48      0.48      1936\n",
      "weighted avg       0.48      0.48      0.48      1936\n",
      "\n"
     ]
    },
    {
     "data": {
      "image/png": "[encoded data removed]",
      "text/plain": [
       "<Figure size 432x288 with 1 Axes>"
      ]
     },
     "metadata": {
      "needs_background": "light"
     },
     "output_type": "display_data"
    },
    {
     "name": "stdout",
     "output_type": "stream",
     "text": [
      "AUC: 48.43%\n",
      "Return: -26.0%\n"
     ]
    }
   ],
   "source": [
    "dec_pipe = Pipeline([\n",
    "    ('poly', PolynomialFeatures()),\n",
    "    ('scaler', StandardScaler()),\n",
    "    ('dec', DecisionTreeClassifier())\n",
    "]).fit(X_train, y_train)\n",
    "roc_plot(dec_pipe)\n",
    "return_plot(dec_pipe)"
   ]
  },
  {
   "cell_type": "code",
   "execution_count": null,
   "metadata": {},
   "outputs": [],
   "source": []
  }
 ],
 "metadata": {
  "kernelspec": {
   "display_name": "Python 3",
   "language": "python",
   "name": "python3"
  },
  "language_info": {
   "codemirror_mode": {
    "name": "ipython",
    "version": 3
   },
   "file_extension": ".py",
   "mimetype": "text/x-python",
   "name": "python",
   "nbconvert_exporter": "python",
   "pygments_lexer": "ipython3",
   "version": "3.7.2"
  }
 },
 "nbformat": 4,
 "nbformat_minor": 2
}
