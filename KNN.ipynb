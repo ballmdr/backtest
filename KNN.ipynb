{
 "cells": [
  {
   "cell_type": "code",
   "execution_count": 1,
   "metadata": {},
   "outputs": [
    {
     "name": "stdout",
     "output_type": "stream",
     "text": [
      "X shape (2904, 7)\n"
     ]
    }
   ],
   "source": [
    "import numpy as np\n",
    "import pandas as pd\n",
    "import matplotlib.pyplot as plt\n",
    "import seaborn as sns\n",
    "sns.set()\n",
    "%matplotlib inline\n",
    "\n",
    "import pickle\n",
    "\n",
    "from sklearn.neighbors import KNeighborsClassifier\n",
    "from sklearn.pipeline import Pipeline\n",
    "from sklearn.preprocessing import StandardScaler, PolynomialFeatures\n",
    "from sklearn.metrics import roc_curve, roc_auc_score, auc, mean_squared_error, confusion_matrix, accuracy_score, classification_report\n",
    "from sklearn.model_selection import GridSearchCV, cross_val_score, RandomizedSearchCV\n",
    "from sklearn.ensemble import BaggingClassifier, AdaBoostClassifier, VotingClassifier\n",
    "\n",
    "def return_plot(estimator, plot=False):\n",
    "    df['Returns'] = df.Close.pct_change()\n",
    "    df['Predicted_Signal'] = estimator.predict(X)\n",
    "    Cumulative_returns = np.cumsum(df[split:]['Returns'])\n",
    "    df['Startegy_returns'] = df['Returns']* df['Predicted_Signal'].shift(1)\n",
    "    Cumulative_Strategy_returns = np.cumsum(df[split:]['Startegy_returns'])\n",
    "    print('Return: {}%'.format(round(Cumulative_Strategy_returns[-1] * 100), 2))\n",
    "    \n",
    "    if plot:\n",
    "        plt.figure(figsize=(10,5))\n",
    "        plt.plot(Cumulative_returns, color='r',label = 'Returns')\n",
    "        plt.plot(Cumulative_Strategy_returns, color='g', label = 'Strategy Returns')\n",
    "        plt.legend()\n",
    "        plt.show()\n",
    "\n",
    "def roc_plot(estimator, auc_cv=False, title=\"ROC Curve\"):\n",
    "    X_ = X_test\n",
    "    y_ = y_test\n",
    "    y_pred = estimator.predict(X_)\n",
    "    y_pred_prob = estimator.predict_proba(X_)[:,1]\n",
    "    #y_pred_prob = y_pred\n",
    "    fpr, tpr, thresholds = roc_curve(y_, y_pred_prob)\n",
    "    print('Train Score: {}%'.format(round(estimator.score(X_train, y_train)*100, 2)))\n",
    "    print(\"Test Score: {}%\".format(round(estimator.score(X_, y_)*100, 2)))\n",
    "    print(confusion_matrix(y_, y_pred))\n",
    "    print(classification_report(y_, y_pred))\n",
    "\n",
    "    # Plot ROC curve\n",
    "    plt.plot([0, 1], [0, 1], 'k--')\n",
    "    plt.plot(fpr, tpr)\n",
    "    plt.xlabel('False Positive Rate')\n",
    "    plt.ylabel('True Positive Rate')\n",
    "    plt.title(title)\n",
    "    plt.show()\n",
    "\n",
    "    #If the AUC is greater than 0.5, the model is better than random guessing. Always a good sign!\n",
    "    print(\"AUC: {}%\".format(round(roc_auc_score(y_, y_pred_prob)*100, 2)))\n",
    "    \n",
    "    if (auc_cv):\n",
    "        cv_auc = cross_val_score(estimator, X, y, cv=5, scoring='roc_auc', n_jobs=-1)\n",
    "        print(\"AUC scores computed using 5-fold cross-validation: {}%\".format(round(np.mean(cv_auc)*100, 2)))\n",
    "  \n",
    "\n",
    "df = pd.read_csv('data1.csv', index_col='Datetime')\n",
    "y = df.Target.values\n",
    "X = df.drop(['Target', 'Close'], axis=1).values\n",
    "\n",
    "split = int(len(df) * 0.60)\n",
    "X_train = X[:split]\n",
    "X_test = X[split:]\n",
    "y_train = y[:split]\n",
    "y_test = y[split:]\n",
    "\n",
    "print('X shape {}'.format(X_train.shape))"
   ]
  },
  {
   "cell_type": "code",
   "execution_count": 29,
   "metadata": {},
   "outputs": [
    {
     "name": "stderr",
     "output_type": "stream",
     "text": [
      "[Parallel(n_jobs=8)]: Using backend LokyBackend with 8 concurrent workers.\n",
      "[Parallel(n_jobs=8)]: Done   2 out of   8 | elapsed:    0.3s remaining:    1.0s\n",
      "[Parallel(n_jobs=8)]: Done   8 out of   8 | elapsed:    0.5s finished\n"
     ]
    },
    {
     "name": "stdout",
     "output_type": "stream",
     "text": [
      "KNeighborsClassifier 0.5180785123966942\n",
      "Pipeline 0.5232438016528925\n"
     ]
    },
    {
     "name": "stderr",
     "output_type": "stream",
     "text": [
      "[Parallel(n_jobs=8)]: Using backend LokyBackend with 8 concurrent workers.\n",
      "[Parallel(n_jobs=8)]: Done   2 out of   8 | elapsed:    0.3s remaining:    0.9s\n",
      "[Parallel(n_jobs=8)]: Done   8 out of   8 | elapsed:    0.5s finished\n",
      "[Parallel(n_jobs=8)]: Using backend LokyBackend with 8 concurrent workers.\n",
      "[Parallel(n_jobs=8)]: Done   2 out of   8 | elapsed:   14.0s remaining:   42.0s\n",
      "[Parallel(n_jobs=8)]: Done   8 out of   8 | elapsed:   14.5s finished\n"
     ]
    },
    {
     "name": "stdout",
     "output_type": "stream",
     "text": [
      "BaggingClassifier 0.5253099173553719\n"
     ]
    },
    {
     "name": "stderr",
     "output_type": "stream",
     "text": [
      "[Parallel(n_jobs=8)]: Using backend LokyBackend with 8 concurrent workers.\n",
      "[Parallel(n_jobs=8)]: Done   2 out of   8 | elapsed:   13.6s remaining:   40.8s\n",
      "[Parallel(n_jobs=8)]: Done   8 out of   8 | elapsed:   14.2s finished\n",
      "[Parallel(n_jobs=8)]: Using backend LokyBackend with 8 concurrent workers.\n",
      "[Parallel(n_jobs=8)]: Done   2 out of   8 | elapsed:   13.4s remaining:   40.2s\n",
      "[Parallel(n_jobs=8)]: Done   8 out of   8 | elapsed:   14.0s finished\n",
      "[Parallel(n_jobs=8)]: Using backend LokyBackend with 8 concurrent workers.\n",
      "[Parallel(n_jobs=8)]: Done   2 out of   8 | elapsed:   13.5s remaining:   40.4s\n",
      "[Parallel(n_jobs=8)]: Done   8 out of   8 | elapsed:   14.1s finished\n"
     ]
    },
    {
     "name": "stdout",
     "output_type": "stream",
     "text": [
      "Train Score: 68.49%\n"
     ]
    },
    {
     "name": "stderr",
     "output_type": "stream",
     "text": [
      "[Parallel(n_jobs=8)]: Using backend LokyBackend with 8 concurrent workers.\n",
      "[Parallel(n_jobs=8)]: Done   2 out of   8 | elapsed:   13.5s remaining:   40.5s\n"
     ]
    },
    {
     "name": "stdout",
     "output_type": "stream",
     "text": [
      "Test Score: 52.27%\n",
      "[[412 566]\n",
      " [358 600]]\n",
      "              precision    recall  f1-score   support\n",
      "\n",
      "          -1       0.54      0.42      0.47       978\n",
      "           1       0.51      0.63      0.56       958\n",
      "\n",
      "   micro avg       0.52      0.52      0.52      1936\n",
      "   macro avg       0.52      0.52      0.52      1936\n",
      "weighted avg       0.52      0.52      0.52      1936\n",
      "\n"
     ]
    },
    {
     "name": "stderr",
     "output_type": "stream",
     "text": [
      "[Parallel(n_jobs=8)]: Done   8 out of   8 | elapsed:   14.0s finished\n"
     ]
    },
    {
     "data": {
      "image/png": "[encoded data removed]",
      "text/plain": [
       "<Figure size 432x288 with 1 Axes>"
      ]
     },
     "metadata": {
      "needs_background": "light"
     },
     "output_type": "display_data"
    },
    {
     "name": "stdout",
     "output_type": "stream",
     "text": [
      "AUC: 53.04%\n",
      "AUC scores computed using 5-fold cross-validation: 51.8%\n"
     ]
    },
    {
     "name": "stderr",
     "output_type": "stream",
     "text": [
      "[Parallel(n_jobs=8)]: Using backend LokyBackend with 8 concurrent workers.\n",
      "[Parallel(n_jobs=8)]: Done   2 out of   8 | elapsed:   13.6s remaining:   40.8s\n",
      "[Parallel(n_jobs=8)]: Done   8 out of   8 | elapsed:   15.4s finished\n"
     ]
    },
    {
     "name": "stdout",
     "output_type": "stream",
     "text": [
      "Return: 34.0%\n"
     ]
    }
   ],
   "source": [
    "# Final Model\n",
    "clf1 = knn_hyper\n",
    "clf2 = knn_pipe \n",
    "clf3 = knn_bag \n",
    "\n",
    "voting_clf = VotingClassifier(\n",
    "    estimators=[\n",
    "        ('clf1', clf1),\n",
    "        ('clf2', clf2),\n",
    "        ('clf3', clf3)\n",
    "    ],\n",
    "    voting='soft'\n",
    ")\n",
    "voting_clf.fit(X_train, y_train)\n",
    "\n",
    "for clf in (clf1, clf2, clf3):\n",
    "    clf.fit(X_train, y_train)\n",
    "    #roc_plot(clf, auc_cv=True, final=True)\n",
    "    y_pred = clf.predict(X_test)\n",
    "    print(clf.__class__.__name__, accuracy_score(y_test, y_pred))\n",
    "    \n",
    "roc_plot(voting_clf, auc_cv=True, title=\"Final Data\")\n",
    "return_plot(voting_clf, plot=True)\n",
    "\n",
    "with open('knn_data1_final.pickle', 'wb') as file:\n",
    "    pickle.dump(voting_clf, file)"
   ]
  },
  {
   "cell_type": "code",
   "execution_count": 4,
   "metadata": {},
   "outputs": [
    {
     "name": "stderr",
     "output_type": "stream",
     "text": [
      "/anaconda2/envs/python3/lib/python3.7/site-packages/sklearn/externals/joblib/externals/loky/process_executor.py:706: UserWarning: A worker stopped while some jobs were given to the executor. This can be caused by a too short worker timeout or by a memory leak.\n",
      "  \"timeout or by a memory leak.\", UserWarning\n",
      "/anaconda2/envs/python3/lib/python3.7/site-packages/sklearn/externals/joblib/externals/loky/process_executor.py:706: UserWarning: A worker stopped while some jobs were given to the executor. This can be caused by a too short worker timeout or by a memory leak.\n",
      "  \"timeout or by a memory leak.\", UserWarning\n",
      "/anaconda2/envs/python3/lib/python3.7/site-packages/sklearn/externals/joblib/externals/loky/process_executor.py:706: UserWarning: A worker stopped while some jobs were given to the executor. This can be caused by a too short worker timeout or by a memory leak.\n",
      "  \"timeout or by a memory leak.\", UserWarning\n",
      "/anaconda2/envs/python3/lib/python3.7/site-packages/sklearn/externals/joblib/externals/loky/process_executor.py:706: UserWarning: A worker stopped while some jobs were given to the executor. This can be caused by a too short worker timeout or by a memory leak.\n",
      "  \"timeout or by a memory leak.\", UserWarning\n"
     ]
    },
    {
     "name": "stdout",
     "output_type": "stream",
     "text": [
      "{'weights': 'distance', 'p': 1, 'n_neighbors': 11, 'n_jobs': -1, 'leaf_size': 27, 'algorithm': 'kd_tree'}\n",
      "Train Score: 100.0%\n",
      "Test Score: 50.83%\n",
      "[[415 563]\n",
      " [389 569]]\n",
      "              precision    recall  f1-score   support\n",
      "\n",
      "          -1       0.52      0.42      0.47       978\n",
      "           1       0.50      0.59      0.54       958\n",
      "\n",
      "   micro avg       0.51      0.51      0.51      1936\n",
      "   macro avg       0.51      0.51      0.51      1936\n",
      "weighted avg       0.51      0.51      0.50      1936\n",
      "\n"
     ]
    },
    {
     "data": {
      "image/png": "[encoded data removed]",
      "text/plain": [
       "<Figure size 432x288 with 1 Axes>"
      ]
     },
     "metadata": {
      "needs_background": "light"
     },
     "output_type": "display_data"
    },
    {
     "name": "stdout",
     "output_type": "stream",
     "text": [
      "AUC: 51.47%\n",
      "Return: 12.0%\n"
     ]
    }
   ],
   "source": [
    "params = {\n",
    "    'n_neighbors': np.arange(1,20),\n",
    "    'weights': ['uniform', 'distance'],\n",
    "    'algorithm': ['auto', 'ball_tree', 'kd_tree', 'brute'],\n",
    "    'leaf_size': np.arange(1,50),\n",
    "    'p': np.arange(1,5),\n",
    "    'n_jobs': [-1]\n",
    "}\n",
    "knn_cv = RandomizedSearchCV(KNeighborsClassifier(), params, cv=5, n_jobs=-1)\n",
    "knn_cv.fit(X_train, y_train)\n",
    "print(knn_cv.best_params_)\n",
    "roc_plot(knn_cv)\n",
    "return_plot(knn_cv)"
   ]
  },
  {
   "cell_type": "code",
   "execution_count": 25,
   "metadata": {},
   "outputs": [],
   "source": [
    "best_params = {'weights': 'uniform', 'p': 1, 'n_neighbors': 8, 'n_jobs': -1, 'leaf_size': 44, 'algorithm': 'kd_tree'}\n",
    "knn = KNeighborsClassifier(**best_params)"
   ]
  },
  {
   "cell_type": "code",
   "execution_count": 26,
   "metadata": {},
   "outputs": [
    {
     "data": {
      "text/plain": [
       "KNeighborsClassifier(algorithm='kd_tree', leaf_size=44, metric='minkowski',\n",
       "           metric_params=None, n_jobs=-1, n_neighbors=8, p=1,\n",
       "           weights='uniform')"
      ]
     },
     "execution_count": 26,
     "metadata": {},
     "output_type": "execute_result"
    }
   ],
   "source": [
    "knn_hyper = knn\n",
    "knn_hyper.fit(X_train, y_train)"
   ]
  },
  {
   "cell_type": "code",
   "execution_count": 27,
   "metadata": {},
   "outputs": [],
   "source": [
    "knn_pipe = Pipeline([\n",
    "    ('polynomials', PolynomialFeatures()),\n",
    "    ('scaler', StandardScaler()),\n",
    "    ('knn', KNeighborsClassifier())\n",
    "]).fit(X_train, y_train)\n",
    "#roc_plot(knn_pipe)\n",
    "#return_plot(knn_pipe, plot=True)"
   ]
  },
  {
   "cell_type": "code",
   "execution_count": 28,
   "metadata": {},
   "outputs": [
    {
     "name": "stderr",
     "output_type": "stream",
     "text": [
      "[Parallel(n_jobs=8)]: Using backend LokyBackend with 8 concurrent workers.\n",
      "[Parallel(n_jobs=8)]: Done   2 out of   8 | elapsed:    0.4s remaining:    1.3s\n",
      "[Parallel(n_jobs=8)]: Done   8 out of   8 | elapsed:    0.7s finished\n"
     ]
    },
    {
     "data": {
      "text/plain": [
       "BaggingClassifier(base_estimator=KNeighborsClassifier(algorithm='kd_tree', leaf_size=44, metric='minkowski',\n",
       "           metric_params=None, n_jobs=-1, n_neighbors=8, p=1,\n",
       "           weights='uniform'),\n",
       "         bootstrap=True, bootstrap_features=False, max_features=7,\n",
       "         max_samples=500, n_estimators=1000, n_jobs=-1, oob_score=False,\n",
       "         random_state=None, verbose=1, warm_start=False)"
      ]
     },
     "execution_count": 28,
     "metadata": {},
     "output_type": "execute_result"
    }
   ],
   "source": [
    "knn_bag = BaggingClassifier(\n",
    "    base_estimator=knn,\n",
    "    n_estimators=1000,\n",
    "    max_samples=500,\n",
    "    max_features=X.shape[1],\n",
    "    bootstrap=True,\n",
    "    n_jobs=-1,\n",
    "    verbose=1\n",
    ")\n",
    "knn_bag.fit(X_train, y_train)\n",
    "#roc_plot(log_bag)\n",
    "#return_plot(log_bag, plot=True)"
   ]
  },
  {
   "cell_type": "code",
   "execution_count": 10,
   "metadata": {},
   "outputs": [
    {
     "name": "stdout",
     "output_type": "stream",
     "text": [
      "{'n_jobs': -1, 'n_neighbors': 2}\n",
      "Train Score: 75.59%\n",
      "Test Score: 50.15%\n",
      "[[690 288]\n",
      " [677 281]]\n",
      "              precision    recall  f1-score   support\n",
      "\n",
      "          -1       0.50      0.71      0.59       978\n",
      "           1       0.49      0.29      0.37       958\n",
      "\n",
      "   micro avg       0.50      0.50      0.50      1936\n",
      "   macro avg       0.50      0.50      0.48      1936\n",
      "weighted avg       0.50      0.50      0.48      1936\n",
      "\n"
     ]
    },
    {
     "data": {
      "image/png": "[encoded data removed]",
      "text/plain": [
       "<Figure size 432x288 with 1 Axes>"
      ]
     },
     "metadata": {
      "needs_background": "light"
     },
     "output_type": "display_data"
    },
    {
     "name": "stdout",
     "output_type": "stream",
     "text": [
      "AUC: 49.51%\n",
      "Return: -10.0%\n"
     ]
    }
   ],
   "source": [
    "params = {\n",
    "    'n_neighbors': np.arange(1,5),\n",
    "    'n_jobs': [-1]\n",
    "}\n",
    "knn_cv = GridSearchCV(KNeighborsClassifier(), params, cv=5, n_jobs=-1)\n",
    "knn_cv.fit(X_train, y_train)\n",
    "print(knn_cv.best_params_)\n",
    "roc_plot(knn_cv)\n",
    "return_plot(knn_cv)"
   ]
  },
  {
   "cell_type": "code",
   "execution_count": 24,
   "metadata": {},
   "outputs": [
    {
     "name": "stdout",
     "output_type": "stream",
     "text": [
      "Train Score: 67.29%\n",
      "Test Score: 51.76%\n",
      "[[432 546]\n",
      " [388 570]]\n",
      "              precision    recall  f1-score   support\n",
      "\n",
      "          -1       0.53      0.44      0.48       978\n",
      "           1       0.51      0.59      0.55       958\n",
      "\n",
      "   micro avg       0.52      0.52      0.52      1936\n",
      "   macro avg       0.52      0.52      0.52      1936\n",
      "weighted avg       0.52      0.52      0.51      1936\n",
      "\n"
     ]
    },
    {
     "data": {
      "image/png": "[encoded data removed]",
      "text/plain": [
       "<Figure size 432x288 with 1 Axes>"
      ]
     },
     "metadata": {
      "needs_background": "light"
     },
     "output_type": "display_data"
    },
    {
     "name": "stdout",
     "output_type": "stream",
     "text": [
      "AUC: 53.32%\n",
      "Return: 19.0%\n"
     ]
    }
   ],
   "source": [
    "params = {\n",
    "    'knn__n_neighbors': np.arange(1,10),\n",
    "    'knn__n_jobs': [-1]\n",
    "}\n",
    "knn_pipe = Pipeline([\n",
    "    ('polynomials', PolynomialFeatures()),\n",
    "    ('scaler', StandardScaler()),\n",
    "    ('knn', knn)\n",
    "])\n",
    "knn_cv = GridSearchCV(knn_pipe, params, cv=5, n_jobs=-1)\n",
    "knn_cv.fit(X_train, y_train)\n",
    "roc_plot(knn_cv)\n",
    "return_plot(knn_cv, plot=False)"
   ]
  },
  {
   "cell_type": "code",
   "execution_count": null,
   "metadata": {},
   "outputs": [],
   "source": []
  }
 ],
 "metadata": {
  "kernelspec": {
   "display_name": "Python 3",
   "language": "python",
   "name": "python3"
  },
  "language_info": {
   "codemirror_mode": {
    "name": "ipython",
    "version": 3
   },
   "file_extension": ".py",
   "mimetype": "text/x-python",
   "name": "python",
   "nbconvert_exporter": "python",
   "pygments_lexer": "ipython3",
   "version": "3.7.2"
  }
 },
 "nbformat": 4,
 "nbformat_minor": 2
}
