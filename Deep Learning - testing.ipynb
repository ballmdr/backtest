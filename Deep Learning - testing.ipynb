{
 "cells": [
  {
   "cell_type": "code",
   "execution_count": 12,
   "metadata": {},
   "outputs": [],
   "source": [
    "# example of weight decay\n",
    "from sklearn.datasets import make_circles\n",
    "from keras.models import Sequential\n",
    "from keras.layers import Dense\n",
    "from keras.regularizers import l2\n",
    "import matplotlib.pyplot as plt\n",
    "import seaborn as sns \n",
    "sns.set()\n",
    "%matplotlib inline\n",
    "\n",
    "from keras.callbacks import EarlyStopping\n",
    "\n",
    "import pickle\n",
    "\n",
    "from sklearn.preprocessing import MinMaxScaler"
   ]
  },
  {
   "cell_type": "code",
   "execution_count": 3,
   "metadata": {},
   "outputs": [],
   "source": [
    "with open('data/data3/X_train_M1.pickle', 'rb') as file:\n",
    "    X_train = pickle.load(file)\n",
    "with open('data/data3/y_train_M1.pickle', 'rb') as file:\n",
    "    y_train = pickle.load(file)\n",
    "with open('data/data3/X_test_M1.pickle', 'rb') as file:\n",
    "    X_test = pickle.load(file)\n",
    "with open('data/data3/y_test_M1.pickle', 'rb') as file:\n",
    "    y_test = pickle.load(file)"
   ]
  },
  {
   "cell_type": "code",
   "execution_count": 4,
   "metadata": {},
   "outputs": [
    {
     "data": {
      "text/plain": [
       "(3484497, 25)"
      ]
     },
     "execution_count": 4,
     "metadata": {},
     "output_type": "execute_result"
    }
   ],
   "source": [
    "X_train.shape"
   ]
  },
  {
   "cell_type": "code",
   "execution_count": 5,
   "metadata": {},
   "outputs": [
    {
     "data": {
      "text/plain": [
       "(3484497,)"
      ]
     },
     "execution_count": 5,
     "metadata": {},
     "output_type": "execute_result"
    }
   ],
   "source": [
    "y_train.shape"
   ]
  },
  {
   "cell_type": "code",
   "execution_count": 6,
   "metadata": {},
   "outputs": [
    {
     "data": {
      "text/plain": [
       "(1161499, 25)"
      ]
     },
     "execution_count": 6,
     "metadata": {},
     "output_type": "execute_result"
    }
   ],
   "source": [
    "X_test.shape"
   ]
  },
  {
   "cell_type": "code",
   "execution_count": 7,
   "metadata": {},
   "outputs": [
    {
     "data": {
      "text/plain": [
       "(1161499,)"
      ]
     },
     "execution_count": 7,
     "metadata": {},
     "output_type": "execute_result"
    }
   ],
   "source": [
    "y_test.shape"
   ]
  },
  {
   "cell_type": "code",
   "execution_count": 8,
   "metadata": {},
   "outputs": [],
   "source": [
    "minmax = MinMaxScaler()\n",
    "X_train = minmax.fit_transform(X_train)\n",
    "X_test = minmax.transform(X_test)"
   ]
  },
  {
   "cell_type": "code",
   "execution_count": null,
   "metadata": {},
   "outputs": [
    {
     "name": "stdout",
     "output_type": "stream",
     "text": [
      "Train on 3484497 samples, validate on 1161499 samples\n",
      "Epoch 1/500\n",
      "3484497/3484497 [==============================] - 166s 48us/step - loss: 0.6903 - acc: 0.5363 - val_loss: 0.6898 - val_acc: 0.5338\n",
      "Epoch 2/500\n",
      "3484497/3484497 [==============================] - 166s 48us/step - loss: 0.6896 - acc: 0.5388 - val_loss: 0.6909 - val_acc: 0.5238\n",
      "Epoch 3/500\n",
      "3484497/3484497 [==============================] - 167s 48us/step - loss: 0.6894 - acc: 0.5399 - val_loss: 0.6936 - val_acc: 0.5197\n",
      "Epoch 4/500\n",
      "3484497/3484497 [==============================] - 167s 48us/step - loss: 0.6893 - acc: 0.5409 - val_loss: 0.6900 - val_acc: 0.5329\n",
      "Epoch 5/500\n",
      "3484497/3484497 [==============================] - 168s 48us/step - loss: 0.6892 - acc: 0.5416 - val_loss: 0.6902 - val_acc: 0.5327\n",
      "Epoch 6/500\n",
      "3484497/3484497 [==============================] - 168s 48us/step - loss: 0.6891 - acc: 0.5421 - val_loss: 0.6898 - val_acc: 0.5356\n",
      "Epoch 7/500\n",
      "3484497/3484497 [==============================] - 169s 48us/step - loss: 0.6891 - acc: 0.5427 - val_loss: 0.6892 - val_acc: 0.5431\n",
      "Epoch 8/500\n",
      "3484497/3484497 [==============================] - 169s 49us/step - loss: 0.6891 - acc: 0.5427 - val_loss: 0.6905 - val_acc: 0.5298\n",
      "Epoch 9/500\n",
      "3484497/3484497 [==============================] - 170s 49us/step - loss: 0.6890 - acc: 0.5426 - val_loss: 0.6909 - val_acc: 0.5287\n",
      "Epoch 10/500\n",
      "3484497/3484497 [==============================] - 170s 49us/step - loss: 0.6890 - acc: 0.5429 - val_loss: 0.6905 - val_acc: 0.5290\n",
      "Epoch 11/500\n",
      "3484497/3484497 [==============================] - 170s 49us/step - loss: 0.6890 - acc: 0.5430 - val_loss: 0.6906 - val_acc: 0.5402\n",
      "Epoch 12/500\n",
      "3484497/3484497 [==============================] - 170s 49us/step - loss: 0.6890 - acc: 0.5432 - val_loss: 0.6946 - val_acc: 0.5153\n",
      "Epoch 13/500\n",
      "3484497/3484497 [==============================] - 170s 49us/step - loss: 0.6890 - acc: 0.5430 - val_loss: 0.6932 - val_acc: 0.5199\n",
      "Epoch 14/500\n",
      "3484497/3484497 [==============================] - 171s 49us/step - loss: 0.6890 - acc: 0.5428 - val_loss: 0.6898 - val_acc: 0.5410\n",
      "Epoch 15/500\n",
      "3484497/3484497 [==============================] - 171s 49us/step - loss: 0.6890 - acc: 0.5432 - val_loss: 0.6902 - val_acc: 0.5335\n",
      "Epoch 16/500\n",
      "3484497/3484497 [==============================] - 170s 49us/step - loss: 0.6890 - acc: 0.5430 - val_loss: 0.6958 - val_acc: 0.5123\n",
      "Epoch 17/500\n",
      "3484497/3484497 [==============================] - 171s 49us/step - loss: 0.6890 - acc: 0.5427 - val_loss: 0.6900 - val_acc: 0.5426\n",
      "Epoch 18/500\n",
      "3484497/3484497 [==============================] - 175s 50us/step - loss: 0.6890 - acc: 0.5431 - val_loss: 0.6896 - val_acc: 0.5417\n",
      "Epoch 19/500\n",
      "3387648/3484497 [============================>.] - ETA: 5s - loss: 0.6891 - acc: 0.5430"
     ]
    }
   ],
   "source": [
    "# define model\n",
    "n_cols = X_train.shape[1]\n",
    "early_stop = EarlyStopping(patience=10, monitor='acc')\n",
    "model = Sequential()\n",
    "model.add(Dense(500, input_shape=(n_cols,), activation='relu', kernel_regularizer=l2(0.01)))\n",
    "model.add(Dense(1, activation='sigmoid'))\n",
    "# compile model\n",
    "model.compile(loss='binary_crossentropy', optimizer='adam', metrics=['accuracy'])\n",
    "# fit model\n",
    "history = model.fit(X_train, y_train, validation_split=0.3, callbacks=[early_stop], validation_data=(X_test, y_test), epochs=500, verbose=True)"
   ]
  },
  {
   "cell_type": "code",
   "execution_count": null,
   "metadata": {},
   "outputs": [],
   "source": [
    "# evaluate the model\n",
    "_, train_acc = model.evaluate(X_train, y_train, verbose=0)\n",
    "_, test_acc = model.evaluate(X_test, y_test, verbose=0)\n",
    "print('Train: %.3f, Test: %.3f' % (train_acc, test_acc))"
   ]
  },
  {
   "cell_type": "code",
   "execution_count": null,
   "metadata": {},
   "outputs": [],
   "source": [
    "# plot loss learning curves\n",
    "pyplot.subplot(211)\n",
    "pyplot.title('Cross-Entropy Loss', pad=-40)\n",
    "pyplot.plot(history.history['loss'], label='train')\n",
    "pyplot.plot(history.history['val_loss'], label='test')\n",
    "pyplot.legend()\n",
    "# plot accuracy learning curves\n",
    "pyplot.subplot(212)\n",
    "pyplot.title('Accuracy', pad=-40)\n",
    "pyplot.plot(history.history['acc'], label='train')\n",
    "pyplot.plot(history.history['val_acc'], label='test')\n",
    "pyplot.legend()\n",
    "pyplot.show()"
   ]
  },
  {
   "cell_type": "code",
   "execution_count": null,
   "metadata": {},
   "outputs": [],
   "source": []
  }
 ],
 "metadata": {
  "kernelspec": {
   "display_name": "Python 3",
   "language": "python",
   "name": "python3"
  },
  "language_info": {
   "codemirror_mode": {
    "name": "ipython",
    "version": 3
   },
   "file_extension": ".py",
   "mimetype": "text/x-python",
   "name": "python",
   "nbconvert_exporter": "python",
   "pygments_lexer": "ipython3",
   "version": "3.7.3"
  }
 },
 "nbformat": 4,
 "nbformat_minor": 2
}
