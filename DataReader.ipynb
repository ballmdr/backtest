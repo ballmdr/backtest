{
 "cells": [
  {
   "cell_type": "code",
   "execution_count": 1,
   "metadata": {},
   "outputs": [
    {
     "ename": "NameError",
     "evalue": "name 'listings' is not defined",
     "output_type": "error",
     "traceback": [
      "\u001b[0;31m---------------------------------------------------------------------------\u001b[0m",
      "\u001b[0;31mNameError\u001b[0m                                 Traceback (most recent call last)",
      "\u001b[0;32m<ipython-input-1-1d2f5eff3905>\u001b[0m in \u001b[0;36m<module>\u001b[0;34m\u001b[0m\n\u001b[1;32m      1\u001b[0m \u001b[0;31m# Set Stock Symbol as the index\u001b[0m\u001b[0;34m\u001b[0m\u001b[0;34m\u001b[0m\u001b[0;34m\u001b[0m\u001b[0m\n\u001b[0;32m----> 2\u001b[0;31m \u001b[0mlistings_ss\u001b[0m \u001b[0;34m=\u001b[0m \u001b[0mlistings\u001b[0m\u001b[0;34m.\u001b[0m\u001b[0mset_index\u001b[0m\u001b[0;34m(\u001b[0m\u001b[0;34m'Stock Symbol'\u001b[0m\u001b[0;34m)\u001b[0m\u001b[0;34m\u001b[0m\u001b[0;34m\u001b[0m\u001b[0m\n\u001b[0m\u001b[1;32m      3\u001b[0m \u001b[0;34m\u001b[0m\u001b[0m\n\u001b[1;32m      4\u001b[0m \u001b[0;31m# Get ticker of 3 largest finance companies\u001b[0m\u001b[0;34m\u001b[0m\u001b[0;34m\u001b[0m\u001b[0;34m\u001b[0m\u001b[0m\n\u001b[1;32m      5\u001b[0m \u001b[0mtop_3_companies\u001b[0m \u001b[0;34m=\u001b[0m \u001b[0mlistings_ss\u001b[0m\u001b[0;34m.\u001b[0m\u001b[0mloc\u001b[0m\u001b[0;34m[\u001b[0m\u001b[0mlistings_ss\u001b[0m\u001b[0;34m.\u001b[0m\u001b[0mSector\u001b[0m \u001b[0;34m==\u001b[0m \u001b[0;34m'Finance'\u001b[0m\u001b[0;34m,\u001b[0m \u001b[0;34m'Market Capitalization'\u001b[0m\u001b[0;34m]\u001b[0m\u001b[0;34m.\u001b[0m\u001b[0mnlargest\u001b[0m\u001b[0;34m(\u001b[0m\u001b[0mn\u001b[0m\u001b[0;34m=\u001b[0m\u001b[0;36m3\u001b[0m\u001b[0;34m)\u001b[0m\u001b[0;34m\u001b[0m\u001b[0;34m\u001b[0m\u001b[0m\n",
      "\u001b[0;31mNameError\u001b[0m: name 'listings' is not defined"
     ]
    }
   ],
   "source": [
    "# Set Stock Symbol as the index\n",
    "listings_ss = listings.set_index('Stock Symbol')\n",
    "\n",
    "# Get ticker of 3 largest finance companies\n",
    "top_3_companies = listings_ss.loc[listings_ss.Sector == 'Finance', 'Market Capitalization'].nlargest(n=3)\n",
    "\n",
    "# Convert index to list\n",
    "top_3_tickers = top_3_companies.index.tolist()\n",
    "\n",
    "# Set start date\n",
    "start = date(2015, 1, 1)\n",
    "\n",
    "# Import stock data\n",
    "result = DataReader(top_3_tickers, 'iex', start)\n",
    "data = pd.DataFrame()\n",
    "for ticker in result.columns.levels[1]:\n",
    "    index = pd.MultiIndex.from_arrays([\n",
    "            [ticker] * len(result),\n",
    "            result.index.values\n",
    "            ], names=['ticker', 'date'])\n",
    "    ticker_df = pd.DataFrame(index=index)\n",
    "    for col in result.columns.levels[0]:\n",
    "        ticker_df[col] = result[col][ticker].values\n",
    "    data = pd.concat([data, ticker_df])\n",
    "\n",
    "# Unstack and inspect result\n",
    "data['close'].unstack().info()"
   ]
  },
  {
   "cell_type": "code",
   "execution_count": null,
   "metadata": {},
   "outputs": [],
   "source": []
  }
 ],
 "metadata": {
  "kernelspec": {
   "display_name": "Python 3",
   "language": "python",
   "name": "python3"
  },
  "language_info": {
   "codemirror_mode": {
    "name": "ipython",
    "version": 3
   },
   "file_extension": ".py",
   "mimetype": "text/x-python",
   "name": "python",
   "nbconvert_exporter": "python",
   "pygments_lexer": "ipython3",
   "version": "3.7.2"
  }
 },
 "nbformat": 4,
 "nbformat_minor": 2
}
